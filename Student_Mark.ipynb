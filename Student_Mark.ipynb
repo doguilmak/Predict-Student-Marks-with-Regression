{
 "cells": [
  {
   "cell_type": "markdown",
   "id": "f2c4c82f",
   "metadata": {},
   "source": [
    "### Importing Needed Packages"
   ]
  },
  {
   "cell_type": "code",
   "execution_count": 1,
   "id": "3f9dcb98",
   "metadata": {},
   "outputs": [],
   "source": [
    "import matplotlib.pyplot as plt\n",
    "import pandas as pd\n",
    "import numpy as np\n",
    "import warnings\n",
    "warnings.filterwarnings(\"ignore\")\n",
    "%matplotlib inline"
   ]
  },
  {
   "cell_type": "code",
   "execution_count": 2,
   "id": "51fe1fa0",
   "metadata": {},
   "outputs": [],
   "source": [
    "df = pd.read_csv('Student_Marks.csv')"
   ]
  },
  {
   "cell_type": "markdown",
   "id": "8f6f153f",
   "metadata": {},
   "source": [
    "### Reading the Data (Data Preprocessing)"
   ]
  },
  {
   "cell_type": "code",
   "execution_count": 3,
   "id": "add60ea7",
   "metadata": {},
   "outputs": [
    {
     "data": {
      "text/html": [
       "<div>\n",
       "<style scoped>\n",
       "    .dataframe tbody tr th:only-of-type {\n",
       "        vertical-align: middle;\n",
       "    }\n",
       "\n",
       "    .dataframe tbody tr th {\n",
       "        vertical-align: top;\n",
       "    }\n",
       "\n",
       "    .dataframe thead th {\n",
       "        text-align: right;\n",
       "    }\n",
       "</style>\n",
       "<table border=\"1\" class=\"dataframe\">\n",
       "  <thead>\n",
       "    <tr style=\"text-align: right;\">\n",
       "      <th></th>\n",
       "      <th>number_courses</th>\n",
       "      <th>time_study</th>\n",
       "      <th>Marks</th>\n",
       "    </tr>\n",
       "  </thead>\n",
       "  <tbody>\n",
       "    <tr>\n",
       "      <th>0</th>\n",
       "      <td>3</td>\n",
       "      <td>4.508</td>\n",
       "      <td>19.202</td>\n",
       "    </tr>\n",
       "    <tr>\n",
       "      <th>1</th>\n",
       "      <td>4</td>\n",
       "      <td>0.096</td>\n",
       "      <td>7.734</td>\n",
       "    </tr>\n",
       "    <tr>\n",
       "      <th>2</th>\n",
       "      <td>4</td>\n",
       "      <td>3.133</td>\n",
       "      <td>13.811</td>\n",
       "    </tr>\n",
       "    <tr>\n",
       "      <th>3</th>\n",
       "      <td>6</td>\n",
       "      <td>7.909</td>\n",
       "      <td>53.018</td>\n",
       "    </tr>\n",
       "    <tr>\n",
       "      <th>4</th>\n",
       "      <td>8</td>\n",
       "      <td>7.811</td>\n",
       "      <td>55.299</td>\n",
       "    </tr>\n",
       "  </tbody>\n",
       "</table>\n",
       "</div>"
      ],
      "text/plain": [
       "   number_courses  time_study   Marks\n",
       "0               3       4.508  19.202\n",
       "1               4       0.096   7.734\n",
       "2               4       3.133  13.811\n",
       "3               6       7.909  53.018\n",
       "4               8       7.811  55.299"
      ]
     },
     "execution_count": 3,
     "metadata": {},
     "output_type": "execute_result"
    }
   ],
   "source": [
    "df.head() #  Take a look at the dataset"
   ]
  },
  {
   "cell_type": "code",
   "execution_count": 4,
   "id": "36c8c403",
   "metadata": {},
   "outputs": [
    {
     "name": "stdout",
     "output_type": "stream",
     "text": [
      "<class 'pandas.core.frame.DataFrame'>\n",
      "RangeIndex: 100 entries, 0 to 99\n",
      "Data columns (total 3 columns):\n",
      " #   Column          Non-Null Count  Dtype  \n",
      "---  ------          --------------  -----  \n",
      " 0   number_courses  100 non-null    int64  \n",
      " 1   time_study      100 non-null    float64\n",
      " 2   Marks           100 non-null    float64\n",
      "dtypes: float64(2), int64(1)\n",
      "memory usage: 2.5 KB\n"
     ]
    }
   ],
   "source": [
    "df.info() #  Looking for the missing values"
   ]
  },
  {
   "cell_type": "code",
   "execution_count": 5,
   "id": "92f2a490",
   "metadata": {},
   "outputs": [
    {
     "data": {
      "text/html": [
       "<div>\n",
       "<style scoped>\n",
       "    .dataframe tbody tr th:only-of-type {\n",
       "        vertical-align: middle;\n",
       "    }\n",
       "\n",
       "    .dataframe tbody tr th {\n",
       "        vertical-align: top;\n",
       "    }\n",
       "\n",
       "    .dataframe thead th {\n",
       "        text-align: right;\n",
       "    }\n",
       "</style>\n",
       "<table border=\"1\" class=\"dataframe\">\n",
       "  <thead>\n",
       "    <tr style=\"text-align: right;\">\n",
       "      <th></th>\n",
       "      <th>number_courses</th>\n",
       "      <th>time_study</th>\n",
       "      <th>Marks</th>\n",
       "    </tr>\n",
       "  </thead>\n",
       "  <tbody>\n",
       "    <tr>\n",
       "      <th>count</th>\n",
       "      <td>100.000000</td>\n",
       "      <td>100.000000</td>\n",
       "      <td>100.000000</td>\n",
       "    </tr>\n",
       "    <tr>\n",
       "      <th>mean</th>\n",
       "      <td>5.290000</td>\n",
       "      <td>4.077140</td>\n",
       "      <td>24.417690</td>\n",
       "    </tr>\n",
       "    <tr>\n",
       "      <th>std</th>\n",
       "      <td>1.799523</td>\n",
       "      <td>2.372914</td>\n",
       "      <td>14.326199</td>\n",
       "    </tr>\n",
       "    <tr>\n",
       "      <th>min</th>\n",
       "      <td>3.000000</td>\n",
       "      <td>0.096000</td>\n",
       "      <td>5.609000</td>\n",
       "    </tr>\n",
       "    <tr>\n",
       "      <th>25%</th>\n",
       "      <td>4.000000</td>\n",
       "      <td>2.058500</td>\n",
       "      <td>12.633000</td>\n",
       "    </tr>\n",
       "    <tr>\n",
       "      <th>50%</th>\n",
       "      <td>5.000000</td>\n",
       "      <td>4.022000</td>\n",
       "      <td>20.059500</td>\n",
       "    </tr>\n",
       "    <tr>\n",
       "      <th>75%</th>\n",
       "      <td>7.000000</td>\n",
       "      <td>6.179250</td>\n",
       "      <td>36.676250</td>\n",
       "    </tr>\n",
       "    <tr>\n",
       "      <th>max</th>\n",
       "      <td>8.000000</td>\n",
       "      <td>7.957000</td>\n",
       "      <td>55.299000</td>\n",
       "    </tr>\n",
       "  </tbody>\n",
       "</table>\n",
       "</div>"
      ],
      "text/plain": [
       "       number_courses  time_study       Marks\n",
       "count      100.000000  100.000000  100.000000\n",
       "mean         5.290000    4.077140   24.417690\n",
       "std          1.799523    2.372914   14.326199\n",
       "min          3.000000    0.096000    5.609000\n",
       "25%          4.000000    2.058500   12.633000\n",
       "50%          5.000000    4.022000   20.059500\n",
       "75%          7.000000    6.179250   36.676250\n",
       "max          8.000000    7.957000   55.299000"
      ]
     },
     "execution_count": 5,
     "metadata": {},
     "output_type": "execute_result"
    }
   ],
   "source": [
    "df.describe()"
   ]
  },
  {
   "cell_type": "code",
   "execution_count": 6,
   "id": "2bf98f07",
   "metadata": {},
   "outputs": [
    {
     "data": {
      "text/plain": [
       "number_courses    0\n",
       "time_study        0\n",
       "Marks             0\n",
       "dtype: int64"
      ]
     },
     "execution_count": 6,
     "metadata": {},
     "output_type": "execute_result"
    }
   ],
   "source": [
    "df.isnull().sum()"
   ]
  },
  {
   "cell_type": "markdown",
   "id": "10fe2493",
   "metadata": {},
   "source": [
    "### Take a Look at the Data on Scatter Plot"
   ]
  },
  {
   "cell_type": "markdown",
   "id": "1c734d62",
   "metadata": {},
   "source": [
    "#### Relation Between Time Study and Marks"
   ]
  },
  {
   "cell_type": "code",
   "execution_count": 7,
   "id": "007193f5",
   "metadata": {},
   "outputs": [
    {
     "data": {
      "text/plain": [
       "Text(0, 0.5, 'Marks')"
      ]
     },
     "execution_count": 7,
     "metadata": {},
     "output_type": "execute_result"
    },
    {
     "data": {
      "image/png": "[encoded data removed]",
      "text/plain": [
       "<Figure size 432x288 with 1 Axes>"
      ]
     },
     "metadata": {
      "needs_background": "light"
     },
     "output_type": "display_data"
    }
   ],
   "source": [
    "plt.scatter(df.time_study, df.Marks,  color='blue')\n",
    "plt.xlabel(\"Time Study\")\n",
    "plt.ylabel(\"Marks\")"
   ]
  },
  {
   "cell_type": "markdown",
   "id": "b2715b27",
   "metadata": {},
   "source": [
    "#### Relation Between Number Courses and Time Study"
   ]
  },
  {
   "cell_type": "code",
   "execution_count": 8,
   "id": "4c9afa03",
   "metadata": {},
   "outputs": [
    {
     "data": {
      "text/plain": [
       "Text(0, 0.5, 'Time Study')"
      ]
     },
     "execution_count": 8,
     "metadata": {},
     "output_type": "execute_result"
    },
    {
     "data": {
      "image/png": "[encoded data removed]",
      "text/plain": [
       "<Figure size 432x288 with 1 Axes>"
      ]
     },
     "metadata": {
      "needs_background": "light"
     },
     "output_type": "display_data"
    }
   ],
   "source": [
    "plt.scatter(df.number_courses, df.time_study,  color='red')\n",
    "plt.xlabel(\"Number Courses\")\n",
    "plt.ylabel(\"Time Study\")"
   ]
  },
  {
   "cell_type": "markdown",
   "id": "76a060fd",
   "metadata": {},
   "source": [
    "#### Relation Between Marks Study and Number Courses"
   ]
  },
  {
   "cell_type": "code",
   "execution_count": 9,
   "id": "6e787759",
   "metadata": {},
   "outputs": [
    {
     "data": {
      "text/plain": [
       "Text(0, 0.5, 'Number Courses')"
      ]
     },
     "execution_count": 9,
     "metadata": {},
     "output_type": "execute_result"
    },
    {
     "data": {
      "image/png": "[encoded data removed]",
      "text/plain": [
       "<Figure size 432x288 with 1 Axes>"
      ]
     },
     "metadata": {
      "needs_background": "light"
     },
     "output_type": "display_data"
    }
   ],
   "source": [
    "plt.scatter(df.Marks, df.number_courses, color='green')\n",
    "plt.xlabel(\"Marks\")\n",
    "plt.ylabel(\"Number Courses\")"
   ]
  },
  {
   "cell_type": "markdown",
   "id": "5af8ce9d",
   "metadata": {},
   "source": [
    "Creating train and test dataset\n",
    "Train/Test Split involves splitting the dataset into training and testing sets respectively, which are mutually exclusive. After which, you train with the training set and test with the testing set. This will provide a more accurate evaluation on out-of-sample accuracy because the testing dataset is not part of the dataset that have been used to train the model. Therefore, it gives us a better understanding of how well our model generalizes on new data.\n",
    "\n",
    "We know the outcome of each data point in the testing dataset, making it great to test with! Since this data has not been used to train the model, the model has no knowledge of the outcome of these data points. So, in essence, it is truly an out-of-sample testing. Let's split our dataset into train and test sets. Around 80% of the entire dataset will be used for training and 20% for testing. We create a mask to select random rows using the np.random.rand() function:"
   ]
  },
  {
   "cell_type": "code",
   "execution_count": 10,
   "id": "3086e769",
   "metadata": {},
   "outputs": [],
   "source": [
    "msk = np.random.rand(len(df)) < 0.8\n",
    "train = df[msk]\n",
    "test = df[~msk]"
   ]
  },
  {
   "cell_type": "markdown",
   "id": "3753c2f1",
   "metadata": {},
   "source": [
    "### Data Distribution on Scatter Plot"
   ]
  },
  {
   "cell_type": "markdown",
   "id": "f9535b3d",
   "metadata": {},
   "source": [
    "#### Train Distribution"
   ]
  },
  {
   "cell_type": "code",
   "execution_count": 11,
   "id": "095bb82a",
   "metadata": {},
   "outputs": [
    {
     "data": {
      "text/plain": [
       "Text(0, 0.5, 'Marks')"
      ]
     },
     "execution_count": 11,
     "metadata": {},
     "output_type": "execute_result"
    },
    {
     "data": {
      "image/png": "[encoded data removed]",
      "text/plain": [
       "<Figure size 432x288 with 1 Axes>"
      ]
     },
     "metadata": {
      "needs_background": "light"
     },
     "output_type": "display_data"
    }
   ],
   "source": [
    "plt.scatter(train.time_study, train.Marks)\n",
    "plt.xlabel('Time Study')\n",
    "plt.ylabel('Marks')"
   ]
  },
  {
   "cell_type": "markdown",
   "id": "0f5668bc",
   "metadata": {},
   "source": [
    "#### Test Distribution"
   ]
  },
  {
   "cell_type": "code",
   "execution_count": 12,
   "id": "7510cb4f",
   "metadata": {},
   "outputs": [
    {
     "data": {
      "text/plain": [
       "Text(0, 0.5, 'Marks')"
      ]
     },
     "execution_count": 12,
     "metadata": {},
     "output_type": "execute_result"
    },
    {
     "data": {
      "image/png": "[encoded data removed]",
      "text/plain": [
       "<Figure size 432x288 with 1 Axes>"
      ]
     },
     "metadata": {
      "needs_background": "light"
     },
     "output_type": "display_data"
    }
   ],
   "source": [
    "plt.scatter(test.time_study, test.Marks)\n",
    "plt.xlabel('Time Study')\n",
    "plt.ylabel('Marks')"
   ]
  },
  {
   "cell_type": "markdown",
   "id": "92257b01",
   "metadata": {},
   "source": [
    "### Multiple Regression Model"
   ]
  },
  {
   "cell_type": "markdown",
   "id": "48bf014c",
   "metadata": {},
   "source": [
    "In reality, there are multiple variables that impact the **Marks**. When more than one independent variable is present, the process is called multiple linear regression. An example of multiple linear regression is predicting **Marks** using the features **number_courses** and **time_study** of students. The good thing here is that multiple linear regression model is the extension of the simple linear regression model."
   ]
  },
  {
   "cell_type": "code",
   "execution_count": 13,
   "id": "dc94a1ec",
   "metadata": {},
   "outputs": [
    {
     "name": "stdout",
     "output_type": "stream",
     "text": [
      "Coefficients:  [[1.9056802  5.46843542]]\n",
      "Intercept:  [-7.85213335]\n"
     ]
    }
   ],
   "source": [
    "from sklearn import linear_model\n",
    "regr = linear_model.LinearRegression()\n",
    "x = np.asanyarray(train[['number_courses', 'time_study']])\n",
    "y = np.asanyarray(train[['Marks']])\n",
    "regr.fit(x, y)\n",
    "# The coefficients\n",
    "print('Coefficients: ', regr.coef_)\n",
    "print('Intercept: ', regr.intercept_)"
   ]
  },
  {
   "cell_type": "markdown",
   "id": "54cce1e2",
   "metadata": {},
   "source": [
    "\n",
    "𝑦̂ = -6.17245925 + (1.71251229 ⋅ X<sub>1</sub>) + (5.33562049 ⋅ X<sub>2</sub>)\n",
    "\n",
    "Coefficient and Intercept are the parameters of the fitted line. Given that it is a multiple linear regression model with 3 parameters and that the parameters are the intercept and coefficients of the hyperplane, sklearn can estimate them from our data. Scikit-learn uses plain Ordinary Least Squares method to solve this problem."
   ]
  },
  {
   "cell_type": "markdown",
   "id": "01b3d140",
   "metadata": {},
   "source": [
    "Ordinary Least Squares (OLS)\n",
    "OLS is a method for estimating the unknown parameters in a linear regression model. OLS chooses the parameters of a linear function of a set of explanatory variables by minimizing the sum of the squares of the differences between the target dependent variable and those predicted by the linear function. In other words, it tries to minimizes the sum of squared errors (SSE) or mean squared error (MSE) between the target variable (y) and our predicted output ( 𝑦̂  ) over all samples in the dataset."
   ]
  },
  {
   "cell_type": "code",
   "execution_count": 14,
   "id": "b7f5e277",
   "metadata": {},
   "outputs": [
    {
     "name": "stdout",
     "output_type": "stream",
     "text": [
      "Residual sum of squares: 12.16\n",
      "Variance score: 0.93\n"
     ]
    }
   ],
   "source": [
    "y_hat = regr.predict(test[['number_courses', 'time_study']])\n",
    "x = np.asanyarray(test[['number_courses', 'time_study']])\n",
    "y = np.asanyarray(test[['Marks']])\n",
    "print(\"Residual sum of squares: %.2f\"\n",
    "      % np.mean((y_hat - y) ** 2))\n",
    "\n",
    "# Explained variance score: 1 is perfect prediction\n",
    "print('Variance score: %.2f' % regr.score(x, y))"
   ]
  },
  {
   "cell_type": "markdown",
   "id": "1daf4264",
   "metadata": {},
   "source": [
    "### Making Predictions"
   ]
  },
  {
   "cell_type": "markdown",
   "id": "f58c609f",
   "metadata": {},
   "source": [
    "If you work 8 hours to 7 lectures:"
   ]
  },
  {
   "cell_type": "code",
   "execution_count": 15,
   "id": "d754beae",
   "metadata": {},
   "outputs": [
    {
     "data": {
      "text/plain": [
       "array([[49.23511143]])"
      ]
     },
     "execution_count": 15,
     "metadata": {},
     "output_type": "execute_result"
    }
   ],
   "source": [
    "regr.predict([[7, 8]])"
   ]
  },
  {
   "cell_type": "markdown",
   "id": "41722f24",
   "metadata": {},
   "source": [
    "If you work 1 hours to 7 lectures:"
   ]
  },
  {
   "cell_type": "code",
   "execution_count": 16,
   "id": "f5c99fe3",
   "metadata": {},
   "outputs": [
    {
     "data": {
      "text/plain": [
       "array([[10.95606348]])"
      ]
     },
     "execution_count": 16,
     "metadata": {},
     "output_type": "execute_result"
    }
   ],
   "source": [
    "regr.predict([[7, 1]])"
   ]
  },
  {
   "cell_type": "markdown",
   "id": "307e4292",
   "metadata": {},
   "source": [
    "### Polynomial Regression"
   ]
  },
  {
   "cell_type": "markdown",
   "id": "5c9f9b9e",
   "metadata": {},
   "source": [
    "#### Importing Libraries for Polynomial Regression"
   ]
  },
  {
   "cell_type": "code",
   "execution_count": 17,
   "id": "e15a29eb",
   "metadata": {},
   "outputs": [],
   "source": [
    "from sklearn.preprocessing import PolynomialFeatures\n",
    "from sklearn import linear_model"
   ]
  },
  {
   "cell_type": "code",
   "execution_count": 18,
   "id": "d9c3fe54",
   "metadata": {},
   "outputs": [
    {
     "data": {
      "text/plain": [
       "array([[1.00000000e+00, 4.50800000e+00, 2.03220640e+01, 9.16118645e+01],\n",
       "       [1.00000000e+00, 9.60000000e-02, 9.21600000e-03, 8.84736000e-04],\n",
       "       [1.00000000e+00, 3.13300000e+00, 9.81568900e+00, 3.07525536e+01],\n",
       "       [1.00000000e+00, 7.90900000e+00, 6.25522810e+01, 4.94725990e+02],\n",
       "       [1.00000000e+00, 7.81100000e+00, 6.10117210e+01, 4.76562553e+02],\n",
       "       [1.00000000e+00, 3.21100000e+00, 1.03105210e+01, 3.31070829e+01],\n",
       "       [1.00000000e+00, 3.41300000e+00, 1.16485690e+01, 3.97565660e+01],\n",
       "       [1.00000000e+00, 4.41000000e+00, 1.94481000e+01, 8.57661210e+01],\n",
       "       [1.00000000e+00, 6.17300000e+00, 3.81059290e+01, 2.35227900e+02],\n",
       "       [1.00000000e+00, 7.35300000e+00, 5.40666090e+01, 3.97551776e+02],\n",
       "       [1.00000000e+00, 4.27400000e+00, 1.82670760e+01, 7.80734828e+01],\n",
       "       [1.00000000e+00, 2.90800000e+00, 8.45646400e+00, 2.45913973e+01],\n",
       "       [1.00000000e+00, 4.26000000e+00, 1.81476000e+01, 7.73087760e+01],\n",
       "       [1.00000000e+00, 6.08000000e+00, 3.69664000e+01, 2.24755712e+02],\n",
       "       [1.00000000e+00, 7.71100000e+00, 5.94595210e+01, 4.58492366e+02],\n",
       "       [1.00000000e+00, 3.97700000e+00, 1.58165290e+01, 6.29023358e+01],\n",
       "       [1.00000000e+00, 4.73300000e+00, 2.24012890e+01, 1.06025301e+02],\n",
       "       [1.00000000e+00, 6.12600000e+00, 3.75278760e+01, 2.29895768e+02],\n",
       "       [1.00000000e+00, 2.05100000e+00, 4.20660100e+00, 8.62773865e+00],\n",
       "       [1.00000000e+00, 5.08000000e-01, 2.58064000e-01, 1.31096512e-01],\n",
       "       [1.00000000e+00, 4.37800000e+00, 1.91668840e+01, 8.39126182e+01],\n",
       "       [1.00000000e+00, 1.56000000e-01, 2.43360000e-02, 3.79641600e-03],\n",
       "       [1.00000000e+00, 1.29900000e+00, 1.68740100e+00, 2.19193390e+00],\n",
       "       [1.00000000e+00, 1.92300000e+00, 3.69792900e+00, 7.11111747e+00],\n",
       "       [1.00000000e+00, 6.59400000e+00, 4.34808360e+01, 2.86712633e+02],\n",
       "       [1.00000000e+00, 4.08300000e+00, 1.66708890e+01, 6.80672398e+01],\n",
       "       [1.00000000e+00, 7.54300000e+00, 5.68968490e+01, 4.29172932e+02],\n",
       "       [1.00000000e+00, 2.96600000e+00, 8.79715600e+00, 2.60923647e+01],\n",
       "       [1.00000000e+00, 7.28300000e+00, 5.30420890e+01, 3.86305534e+02],\n",
       "       [1.00000000e+00, 6.53300000e+00, 4.26800890e+01, 2.78829021e+02],\n",
       "       [1.00000000e+00, 7.77500000e+00, 6.04506250e+01, 4.70003609e+02],\n",
       "       [1.00000000e+00, 1.40000000e-01, 1.96000000e-02, 2.74400000e-03],\n",
       "       [1.00000000e+00, 2.75400000e+00, 7.58451600e+00, 2.08877571e+01],\n",
       "       [1.00000000e+00, 1.55700000e+00, 2.42424900e+00, 3.77455569e+00],\n",
       "       [1.00000000e+00, 1.95400000e+00, 3.81811600e+00, 7.46059866e+00],\n",
       "       [1.00000000e+00, 3.79700000e+00, 1.44172090e+01, 5.47421426e+01],\n",
       "       [1.00000000e+00, 5.63500000e+00, 3.17532250e+01, 1.78929423e+02],\n",
       "       [1.00000000e+00, 6.70300000e+00, 4.49302090e+01, 3.01167191e+02],\n",
       "       [1.00000000e+00, 4.13000000e+00, 1.70569000e+01, 7.04449970e+01],\n",
       "       [1.00000000e+00, 6.04900000e+00, 3.65904010e+01, 2.21335336e+02],\n",
       "       [1.00000000e+00, 7.59100000e+00, 5.76232810e+01, 4.37418326e+02],\n",
       "       [1.00000000e+00, 2.91300000e+00, 8.48556900e+00, 2.47184625e+01],\n",
       "       [1.00000000e+00, 6.19800000e+00, 3.84152040e+01, 2.38097434e+02],\n",
       "       [1.00000000e+00, 7.46800000e+00, 5.57710240e+01, 4.16498007e+02],\n",
       "       [1.00000000e+00, 3.76000000e-01, 1.41376000e-01, 5.31573760e-02],\n",
       "       [1.00000000e+00, 2.43800000e+00, 5.94384400e+00, 1.44910917e+01],\n",
       "       [1.00000000e+00, 4.86900000e+00, 2.37071610e+01, 1.15430167e+02],\n",
       "       [1.00000000e+00, 1.30000000e-01, 1.69000000e-02, 2.19700000e-03],\n",
       "       [1.00000000e+00, 2.14200000e+00, 4.58816400e+00, 9.82784729e+00],\n",
       "       [1.00000000e+00, 5.47300000e+00, 2.99537290e+01, 1.63936759e+02],\n",
       "       [1.00000000e+00, 1.39500000e+00, 1.94602500e+00, 2.71470488e+00],\n",
       "       [1.00000000e+00, 3.94800000e+00, 1.55867040e+01, 6.15363074e+01],\n",
       "       [1.00000000e+00, 3.73600000e+00, 1.39576960e+01, 5.21459523e+01],\n",
       "       [1.00000000e+00, 2.51800000e+00, 6.34032400e+00, 1.59649358e+01],\n",
       "       [1.00000000e+00, 4.63300000e+00, 2.14646890e+01, 9.94459041e+01],\n",
       "       [1.00000000e+00, 1.62900000e+00, 2.65364100e+00, 4.32278119e+00],\n",
       "       [1.00000000e+00, 6.95400000e+00, 4.83581160e+01, 3.36282339e+02],\n",
       "       [1.00000000e+00, 8.03000000e-01, 6.44809000e-01, 5.17781627e-01],\n",
       "       [1.00000000e+00, 6.37900000e+00, 4.06916410e+01, 2.59571978e+02],\n",
       "       [1.00000000e+00, 5.98500000e+00, 3.58202250e+01, 2.14384047e+02],\n",
       "       [1.00000000e+00, 7.45100000e+00, 5.55174010e+01, 4.13660155e+02],\n",
       "       [1.00000000e+00, 8.05000000e-01, 6.48025000e-01, 5.21660125e-01],\n",
       "       [1.00000000e+00, 7.95700000e+00, 6.33138490e+01, 5.03788296e+02],\n",
       "       [1.00000000e+00, 2.26200000e+00, 5.11664400e+00, 1.15738487e+01],\n",
       "       [1.00000000e+00, 7.41000000e+00, 5.49081000e+01, 4.06869021e+02],\n",
       "       [1.00000000e+00, 3.19700000e+00, 1.02208090e+01, 3.26759264e+01],\n",
       "       [1.00000000e+00, 1.98200000e+00, 3.92832400e+00, 7.78593817e+00],\n",
       "       [1.00000000e+00, 6.20100000e+00, 3.84524010e+01, 2.38443339e+02],\n",
       "       [1.00000000e+00, 1.80300000e+00, 3.25080900e+00, 5.86120863e+00],\n",
       "       [1.00000000e+00, 6.37600000e+00, 4.06533760e+01, 2.59205925e+02],\n",
       "       [1.00000000e+00, 4.18200000e+00, 1.74891240e+01, 7.31395166e+01],\n",
       "       [1.00000000e+00, 2.73000000e+00, 7.45290000e+00, 2.03464170e+01],\n",
       "       [1.00000000e+00, 5.02700000e+00, 2.52707290e+01, 1.27035955e+02],\n",
       "       [1.00000000e+00, 3.91900000e+00, 1.53585610e+01, 6.01902006e+01],\n",
       "       [1.00000000e+00, 3.56100000e+00, 1.26807210e+01, 4.51560475e+01],\n",
       "       [1.00000000e+00, 3.01000000e-01, 9.06010000e-02, 2.72709010e-02],\n",
       "       [1.00000000e+00, 7.16300000e+00, 5.13085690e+01, 3.67523280e+02],\n",
       "       [1.00000000e+00, 3.09000000e-01, 9.54810000e-02, 2.95036290e-02],\n",
       "       [1.00000000e+00, 6.33500000e+00, 4.01322250e+01, 2.54237645e+02]])"
      ]
     },
     "execution_count": 18,
     "metadata": {},
     "output_type": "execute_result"
    }
   ],
   "source": [
    "train_x = np.asanyarray(train[['time_study']])\n",
    "train_y = np.asanyarray(train[['Marks']])\n",
    "\n",
    "test_x = np.asanyarray(test[['time_study']])\n",
    "test_y = np.asanyarray(test[['Marks']])\n",
    "\n",
    "\n",
    "poly = PolynomialFeatures(degree=3)\n",
    "train_x_poly = poly.fit_transform(train_x)\n",
    "train_x_poly"
   ]
  },
  {
   "cell_type": "code",
   "execution_count": 19,
   "id": "85b990e6",
   "metadata": {},
   "outputs": [
    {
     "name": "stdout",
     "output_type": "stream",
     "text": [
      "Coefficients:  [[0.         0.77917511 0.38605316 0.02890665]]\n",
      "Intercept:  [8.62006359]\n"
     ]
    }
   ],
   "source": [
    "clf = linear_model.LinearRegression()\n",
    "train_y_ = clf.fit(train_x_poly, train_y)\n",
    "# The coefficients\n",
    "print('Coefficients: ', clf.coef_)\n",
    "print('Intercept: ', clf.intercept_)"
   ]
  },
  {
   "cell_type": "markdown",
   "id": "72f242cb",
   "metadata": {},
   "source": [
    "fit_transform takes our x values, and output a list of our data raised from power of 0 to power of 2 (since we set the degree of our polynomial to 2)."
   ]
  },
  {
   "cell_type": "code",
   "execution_count": 20,
   "id": "9d75eccc",
   "metadata": {},
   "outputs": [
    {
     "data": {
      "text/plain": [
       "Text(0, 0.5, 'Marks')"
      ]
     },
     "execution_count": 20,
     "metadata": {},
     "output_type": "execute_result"
    },
    {
     "data": {
      "image/png": "[encoded data removed]",
      "text/plain": [
       "<Figure size 432x288 with 1 Axes>"
      ]
     },
     "metadata": {
      "needs_background": "light"
     },
     "output_type": "display_data"
    }
   ],
   "source": [
    "plt.scatter(train.time_study, train.Marks,  color='blue')\n",
    "XX = np.arange(0.0, 9.0, 0.1)\n",
    "yy = clf.intercept_[0] + clf.coef_[0][1] * XX + clf.coef_[0][2] * np.power(XX, 2) + clf.coef_[0][3] * np.power(XX, 3)\n",
    "plt.plot(XX, yy, '-r')\n",
    "plt.xlabel('Time Study')\n",
    "plt.ylabel('Marks')"
   ]
  },
  {
   "cell_type": "markdown",
   "id": "fb1755aa",
   "metadata": {},
   "source": [
    "### Making Predictions"
   ]
  },
  {
   "cell_type": "markdown",
   "id": "2c2a89ad",
   "metadata": {},
   "source": [
    "If you'd work 5 hours:"
   ]
  },
  {
   "cell_type": "code",
   "execution_count": 21,
   "id": "a5606cbe",
   "metadata": {},
   "outputs": [
    {
     "name": "stdout",
     "output_type": "stream",
     "text": [
      "\n",
      "Polinomial Regression(degree=3):\n",
      "[[25.78059914]]\n"
     ]
    }
   ],
   "source": [
    "print(\"\\nPolinomial Regression(degree=3):\")\n",
    "print(train_y_.predict(poly.fit_transform([[5]])))"
   ]
  },
  {
   "cell_type": "markdown",
   "id": "069b1480",
   "metadata": {},
   "source": [
    "### Evaluation"
   ]
  },
  {
   "cell_type": "code",
   "execution_count": 22,
   "id": "eb232de8",
   "metadata": {},
   "outputs": [
    {
     "name": "stdout",
     "output_type": "stream",
     "text": [
      "Mean absolute error: 2.85\n",
      "Residual sum of squares (MSE): 10.06\n",
      "R2-score: 0.94\n"
     ]
    }
   ],
   "source": [
    "from sklearn.metrics import r2_score\n",
    "\n",
    "test_x_poly = poly.fit_transform(test_x)\n",
    "test_y_ = clf.predict(test_x_poly)\n",
    "\n",
    "print(\"Mean absolute error: %.2f\" % np.mean(np.absolute(test_y_ - test_y)))\n",
    "print(\"Residual sum of squares (MSE): %.2f\" % np.mean((test_y_ - test_y) ** 2))\n",
    "print(\"R2-score: %.2f\" % r2_score(test_y, test_y_))"
   ]
  },
  {
   "cell_type": "code",
   "execution_count": 23,
   "id": "f8d8ad8a",
   "metadata": {},
   "outputs": [
    {
     "name": "stdout",
     "output_type": "stream",
     "text": [
      "\n",
      "Degree 1\n",
      "Mean absolute error: 3.86\n",
      "Residual sum of squares (MSE): 21.72\n",
      "R2-score: 0.88\n",
      "\n",
      "Degree 2\n",
      "Mean absolute error: 2.86\n",
      "Residual sum of squares (MSE): 9.98\n",
      "R2-score: 0.94\n",
      "\n",
      "Degree 3\n",
      "Mean absolute error: 2.85\n",
      "Residual sum of squares (MSE): 10.06\n",
      "R2-score: 0.94\n",
      "\n",
      "Degree 4\n",
      "Mean absolute error: 2.75\n",
      "Residual sum of squares (MSE): 9.49\n",
      "R2-score: 0.95\n",
      "\n",
      "Degree 5\n",
      "Mean absolute error: 2.64\n",
      "Residual sum of squares (MSE): 9.38\n",
      "R2-score: 0.95\n",
      "\n",
      "Degree 6\n",
      "Mean absolute error: 2.74\n",
      "Residual sum of squares (MSE): 10.45\n",
      "R2-score: 0.94\n",
      "\n",
      "Degree 7\n",
      "Mean absolute error: 2.70\n",
      "Residual sum of squares (MSE): 10.08\n",
      "R2-score: 0.94\n",
      "\n",
      "Degree 8\n",
      "Mean absolute error: 2.70\n",
      "Residual sum of squares (MSE): 10.15\n",
      "R2-score: 0.94\n",
      "\n",
      "Degree 9\n",
      "Mean absolute error: 2.71\n",
      "Residual sum of squares (MSE): 10.10\n",
      "R2-score: 0.94\n",
      "\n",
      "Degree 10\n",
      "Mean absolute error: 2.55\n",
      "Residual sum of squares (MSE): 10.50\n",
      "R2-score: 0.94\n"
     ]
    },
    {
     "data": {
      "text/plain": [
       "array([0.87879001, 0.9443271 , 0.9438771 , 0.94703223, 0.94767137,\n",
       "       0.94168039, 0.94374442, 0.94338075, 0.94361945, 0.94141566])"
      ]
     },
     "execution_count": 23,
     "metadata": {},
     "output_type": "execute_result"
    }
   ],
   "source": [
    "Ks = 11\n",
    "mean_acc = np.zeros((Ks-1))\n",
    "\n",
    "for i in range(1, Ks):\n",
    "    poly = PolynomialFeatures(degree=i)\n",
    "    train_x_poly = poly.fit_transform(train_x)\n",
    "    \n",
    "    clf = linear_model.LinearRegression()\n",
    "    train_y_ = clf.fit(train_x_poly, train_y)\n",
    "    test_x_poly = poly.fit_transform(test_x)\n",
    "    test_y_ = clf.predict(test_x_poly)\n",
    "    \n",
    "    print(f\"\\nDegree {i}\")\n",
    "    print(\"Mean absolute error: %.2f\" % np.mean(np.absolute(test_y_ - test_y)))\n",
    "    print(\"Residual sum of squares (MSE): %.2f\" % np.mean((test_y_ - test_y) ** 2))\n",
    "    print(\"R2-score: %.2f\" % r2_score(test_y, test_y_))\n",
    "    \n",
    "    mean_acc[i-1]=r2_score(test_y, test_y_)\n",
    "\n",
    "mean_acc"
   ]
  },
  {
   "cell_type": "code",
   "execution_count": 24,
   "id": "a25e00b8",
   "metadata": {},
   "outputs": [
    {
     "data": {
      "image/png": "[encoded data removed]",
      "text/plain": [
       "<Figure size 432x288 with 1 Axes>"
      ]
     },
     "metadata": {
      "needs_background": "light"
     },
     "output_type": "display_data"
    }
   ],
   "source": [
    "plt.plot(range(1, Ks), mean_acc, 'g')\n",
    "plt.ylabel('R2 Score')\n",
    "plt.xlabel('Number of Degrees')\n",
    "plt.tight_layout()\n",
    "plt.show()"
   ]
  },
  {
   "cell_type": "code",
   "execution_count": 25,
   "id": "641aa684",
   "metadata": {},
   "outputs": [
    {
     "name": "stdout",
     "output_type": "stream",
     "text": [
      "The best accuracy was with 0.947671372848121 with degree= 5\n"
     ]
    }
   ],
   "source": [
    "print(\"The best accuracy was with\", mean_acc.max(), \"with degree=\", mean_acc.argmax() + 1)"
   ]
  }
 ],
 "metadata": {
  "kernelspec": {
   "display_name": "Python 3 (ipykernel)",
   "language": "python",
   "name": "python3"
  },
  "language_info": {
   "codemirror_mode": {
    "name": "ipython",
    "version": 3
   },
   "file_extension": ".py",
   "mimetype": "text/x-python",
   "name": "python",
   "nbconvert_exporter": "python",
   "pygments_lexer": "ipython3",
   "version": "3.9.7"
  }
 },
 "nbformat": 4,
 "nbformat_minor": 5
}
